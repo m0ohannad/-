{
  "nbformat": 4,
  "nbformat_minor": 0,
  "metadata": {
    "colab": {
      "name": "Assignment_06.ipynb",
      "provenance": [],
      "collapsed_sections": [],
      "authorship_tag": "ABX9TyNE18qP+8WPFqOPHJ7PA4Xq",
      "include_colab_link": true
    },
    "kernelspec": {
      "name": "python3",
      "display_name": "Python 3"
    },
    "language_info": {
      "name": "python"
    }
  },
  "cells": [
    {
      "cell_type": "markdown",
      "metadata": {
        "id": "view-in-github",
        "colab_type": "text"
      },
      "source": [
        "<a href=\"https://colab.research.google.com/github/m0ohannad/-/blob/main/Assignment_06.ipynb\" target=\"_parent\"><img src=\"https://colab.research.google.com/assets/colab-badge.svg\" alt=\"Open In Colab\"/></a>"
      ]
    },
    {
      "cell_type": "markdown",
      "metadata": {
        "id": "4gLG5hCkA_eA"
      },
      "source": [
        "# **Q1**\n",
        "\n",
        "By selecting data from **f500**:"
      ]
    },
    {
      "cell_type": "markdown",
      "metadata": {
        "id": "DaJ3295IBDJe"
      },
      "source": [
        "1. Create a new variable **big_movers**, with:\n",
        "  * Rows with indices **Aviva**, **HP**, **JD.com**, and **BHP Billiton**, in that order.\n",
        "  * The **rank** and **previous_rank** columns, in that order.\n",
        "\n",
        "2. Create a new variable, **bottom_companies** with:\n",
        "  * All rows with indices from **National Grid** to **AutoNation**, inclusive.\n",
        "  * The **rank**, **sector**, and **country** columns.\n",
        "\n",
        "\n",
        "\n",
        "```\n",
        "import pandas as pd\n",
        "f500 = pd.read_csv('f500.csv',index_col=0)\n",
        "f500.index.name = None\n",
        "```\n",
        "\n"
      ]
    },
    {
      "cell_type": "code",
      "metadata": {
        "colab": {
          "base_uri": "https://localhost:8080/"
        },
        "id": "gGRDcG0EAvjR",
        "outputId": "ecaa5dc9-b937-40ca-8e0e-3df88d235289"
      },
      "source": [
        "import pandas as pd\n",
        "f500 = pd.read_csv('f500.csv',index_col=0)\n",
        "f500.index.name = None\n",
        "\n",
        "big_movers = f500.loc[[\"Aviva\", \"HP\", \"JD.com\", \"BHP Billiton\"]] [[\"rank\",\"previous_rank\"]]\n",
        "\n",
        "bottom_companies = f500.loc[\"National Grid\":\"AutoNation\"] [[\"rank\",\"sector\", \"country\"]]\n",
        "\n",
        "print(big_movers)\n",
        "print(\"\\n=================================================\\n\")\n",
        "print(bottom_companies)"
      ],
      "execution_count": 1,
      "outputs": [
        {
          "output_type": "stream",
          "text": [
            "              rank  previous_rank\n",
            "Aviva           90            279\n",
            "HP             194             48\n",
            "JD.com         261            366\n",
            "BHP Billiton   350            168\n",
            "\n",
            "=================================================\n",
            "\n",
            "                                       rank              sector  country\n",
            "National Grid                           491              Energy  Britain\n",
            "Dollar General                          492           Retailing      USA\n",
            "Telecom Italia                          493  Telecommunications    Italy\n",
            "Xiamen ITG Holding Group                494         Wholesalers    China\n",
            "Xinjiang Guanghui Industry Investment   495         Wholesalers    China\n",
            "Teva Pharmaceutical Industries          496         Health Care   Israel\n",
            "New China Life Insurance                497          Financials    China\n",
            "Wm. Morrison Supermarkets               498  Food & Drug Stores  Britain\n",
            "TUI                                     499   Business Services  Germany\n",
            "AutoNation                              500           Retailing      USA\n"
          ],
          "name": "stdout"
        }
      ]
    },
    {
      "cell_type": "markdown",
      "metadata": {
        "id": "bSS2MHadC7Yu"
      },
      "source": [
        "# **Q2**\n",
        "\n",
        "We want to replaced all **0** values in the **previous_rank** column with **NaN**."
      ]
    },
    {
      "cell_type": "markdown",
      "metadata": {
        "id": "Xh9PulZLDDaA"
      },
      "source": [
        "1. Select the **rank**, **revenues**, and **revenue_change** columns in **f500**. Then, use the **`DataFrame.head()`** method to select the first five rows. Assign the result to **f500_selection**.\n",
        "\n",
        "2. Use the variable inspector to view **f500_selection**. Compare the results to the first few lines of our CSV file above.\n",
        "\n",
        "3. Take a look at the documentation for the **`pandas.read_csv()`** **function** to try to understand the results. If you have trouble understanding, don't worry! We'll explain the results on the next screen.\n",
        "\n",
        "\n",
        "\n",
        "```\n",
        "import pandas as pd\n",
        "f500 = pd.read_csv('f500.csv',index_col=0)\n",
        "f500.index.name = None\n",
        "```\n",
        "\n"
      ]
    },
    {
      "cell_type": "code",
      "metadata": {
        "colab": {
          "base_uri": "https://localhost:8080/",
          "height": 235
        },
        "id": "rJUGLsv5EPeM",
        "outputId": "db2db98f-05b3-420c-b40e-fc7af7586c75"
      },
      "source": [
        "# import pandas as pd\n",
        "f500 = pd.read_csv('f500.csv',index_col=0)\n",
        "# f500.index.name = None\n",
        "\n",
        "f500_selection = f500[[\"rank\",\"revenues\", \"revenue_change\"]].head()\n",
        "f500_selection"
      ],
      "execution_count": 2,
      "outputs": [
        {
          "output_type": "execute_result",
          "data": {
            "text/html": [
              "<div>\n",
              "<style scoped>\n",
              "    .dataframe tbody tr th:only-of-type {\n",
              "        vertical-align: middle;\n",
              "    }\n",
              "\n",
              "    .dataframe tbody tr th {\n",
              "        vertical-align: top;\n",
              "    }\n",
              "\n",
              "    .dataframe thead th {\n",
              "        text-align: right;\n",
              "    }\n",
              "</style>\n",
              "<table border=\"1\" class=\"dataframe\">\n",
              "  <thead>\n",
              "    <tr style=\"text-align: right;\">\n",
              "      <th></th>\n",
              "      <th>rank</th>\n",
              "      <th>revenues</th>\n",
              "      <th>revenue_change</th>\n",
              "    </tr>\n",
              "    <tr>\n",
              "      <th>company</th>\n",
              "      <th></th>\n",
              "      <th></th>\n",
              "      <th></th>\n",
              "    </tr>\n",
              "  </thead>\n",
              "  <tbody>\n",
              "    <tr>\n",
              "      <th>Walmart</th>\n",
              "      <td>1</td>\n",
              "      <td>485873</td>\n",
              "      <td>0.8</td>\n",
              "    </tr>\n",
              "    <tr>\n",
              "      <th>State Grid</th>\n",
              "      <td>2</td>\n",
              "      <td>315199</td>\n",
              "      <td>-4.4</td>\n",
              "    </tr>\n",
              "    <tr>\n",
              "      <th>Sinopec Group</th>\n",
              "      <td>3</td>\n",
              "      <td>267518</td>\n",
              "      <td>-9.1</td>\n",
              "    </tr>\n",
              "    <tr>\n",
              "      <th>China National Petroleum</th>\n",
              "      <td>4</td>\n",
              "      <td>262573</td>\n",
              "      <td>-12.3</td>\n",
              "    </tr>\n",
              "    <tr>\n",
              "      <th>Toyota Motor</th>\n",
              "      <td>5</td>\n",
              "      <td>254694</td>\n",
              "      <td>7.7</td>\n",
              "    </tr>\n",
              "  </tbody>\n",
              "</table>\n",
              "</div>"
            ],
            "text/plain": [
              "                          rank  revenues  revenue_change\n",
              "company                                                 \n",
              "Walmart                      1    485873             0.8\n",
              "State Grid                   2    315199            -4.4\n",
              "Sinopec Group                3    267518            -9.1\n",
              "China National Petroleum     4    262573           -12.3\n",
              "Toyota Motor                 5    254694             7.7"
            ]
          },
          "metadata": {
            "tags": []
          },
          "execution_count": 2
        }
      ]
    }
  ]
}